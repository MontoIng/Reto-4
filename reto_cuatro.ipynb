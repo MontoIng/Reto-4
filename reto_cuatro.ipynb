{
  "nbformat": 4,
  "nbformat_minor": 0,
  "metadata": {
    "colab": {
      "provenance": []
    },
    "kernelspec": {
      "name": "python3",
      "display_name": "Python 3"
    },
    "language_info": {
      "name": "python"
    }
  },
  "cells": [
    {
      "cell_type": "markdown",
      "source": [
        "# ***EJERCICIO #1***\n",
        "\n",
        "**Dado un número entero, determinar si ese número corresponde al código ASCII de una vocal minúscula.**"
      ],
      "metadata": {
        "id": "PqolgR4s5EwQ"
      }
    },
    {
      "cell_type": "code",
      "execution_count": null,
      "metadata": {
        "colab": {
          "base_uri": "https://localhost:8080/"
        },
        "id": "N8mwMpMhf-uo",
        "outputId": "13faef76-62aa-4780-835e-f173871a5946"
      },
      "outputs": [
        {
          "output_type": "stream",
          "name": "stdout",
          "text": [
            "Ingrese un número: 107\n",
            "El número 107 no corresponde en el codigo ASCII a una vocal minúscula: k\n"
          ]
        }
      ],
      "source": [
        "n = int\n",
        "n=int(input(\"Ingrese un número: \"))\n",
        "if n in (97, 101, 105, 111, 117):\n",
        "  print(f\"El número {n} corresponde en el codigo ASCII a una vocal minúscula: \" + chr(n))\n",
        "else:\n",
        "  print(f\"El número {n} no corresponde en el codigo ASCII a una vocal minúscula: \" + chr(n))"
      ]
    },
    {
      "cell_type": "markdown",
      "source": [
        "# ***EJERCICIO #2***\n",
        "\n",
        "**Dada una cadena de longitud 1, determine si el código ASCII de la cadena es par o no.**"
      ],
      "metadata": {
        "id": "oWOhlaWX5BJM"
      }
    },
    {
      "cell_type": "code",
      "source": [
        "def es_ascii_par(cadena):\n",
        "    if len(cadena) != 1:\n",
        "        return \"La cadena debe tener exactamente un carácter.\"\n",
        "\n",
        "    codigo_ascii = ord(cadena)\n",
        "\n",
        "    if codigo_ascii % 2 == 0:\n",
        "        return f\"El código ASCII de '{cadena}' es {codigo_ascii} y es par.\"\n",
        "    else:\n",
        "        return f\"El código ASCII de '{cadena}' es {codigo_ascii} y es impar.\"\n",
        "\n",
        "entrada = input(\"Introduce un carácter: \")\n",
        "resultado = es_ascii_par(entrada)\n",
        "print(resultado)"
      ],
      "metadata": {
        "id": "ziw9J0DwlE7o",
        "colab": {
          "base_uri": "https://localhost:8080/"
        },
        "outputId": "76fe5b80-073a-4ab9-f903-db1672ac710b"
      },
      "execution_count": null,
      "outputs": [
        {
          "output_type": "stream",
          "name": "stdout",
          "text": [
            "Introduce un carácter: h\n",
            "El código ASCII de 'h' es 104 y es par.\n"
          ]
        }
      ]
    },
    {
      "cell_type": "markdown",
      "source": [
        "# ***EJERCICIO #3***\n",
        "\n",
        "**Dado un carácter, construya un programa en Python para determinar si el carácter es un dígito o no.**"
      ],
      "metadata": {
        "id": "RMEy7Gy_48uc"
      }
    },
    {
      "cell_type": "code",
      "source": [
        "def es_digito(caracter):\n",
        "    if len(caracter) != 1:\n",
        "        return \"La entrada debe ser exactamente un carácter.\"\n",
        "    if caracter.isdigit():\n",
        "        return f\"El carácter '{caracter}' es un dígito.\"\n",
        "    else:\n",
        "        return f\"El carácter '{caracter}' no es un dígito.\"\n",
        "\n",
        "entrada = input(\"Introduce un carácter: \")\n",
        "resultado = es_digito(entrada)\n",
        "print(resultado)"
      ],
      "metadata": {
        "id": "b_8gRLdwyXR2",
        "colab": {
          "base_uri": "https://localhost:8080/"
        },
        "outputId": "8c0b6347-b4ca-4a6d-e6fb-1e644fe6e19e"
      },
      "execution_count": null,
      "outputs": [
        {
          "output_type": "stream",
          "name": "stdout",
          "text": [
            "Introduce un carácter: 28\n",
            "La entrada debe ser exactamente un carácter.\n"
          ]
        }
      ]
    },
    {
      "cell_type": "markdown",
      "source": [
        "# ***EJERCICIO #4***\n",
        "\n",
        "**Realice un programa que lea dos números reales y determine si el primero es múltiplo del segundo.**"
      ],
      "metadata": {
        "id": "2mw0AO8T43dI"
      }
    },
    {
      "cell_type": "code",
      "source": [
        "numero_uno = float\n",
        "numero_dos = float\n",
        "\n",
        "def primero_multiplo_del_segundo(numero_uno, numero_dos) -> bool:\n",
        "  primero_multiplo_del_segundo = (numero_uno % numero_dos) == 0\n",
        "  return primero_multiplo_del_segundo\n",
        "if __name__ == \"__main__\":\n",
        "    numero_uno = float(input(\"Ingrese el primer número real: \"))\n",
        "    numero_dos = float(input(\"Ingrese el segundo número real: \"))\n",
        "if (numero_uno%numero_dos) == 0:\n",
        "      print(f\"El primer número, {numero_uno} es multiplo del segundo {numero_dos}\")\n",
        "else:\n",
        "  print(f\"El primer número, {numero_uno} no es multiplo del segundo {numero_dos}\")"
      ],
      "metadata": {
        "colab": {
          "base_uri": "https://localhost:8080/"
        },
        "id": "dBIQipYuyyN2",
        "outputId": "1e4482a8-01e5-4b28-e63f-907ed1f93977"
      },
      "execution_count": null,
      "outputs": [
        {
          "output_type": "stream",
          "name": "stdout",
          "text": [
            "Ingrese el primer número real: 100\n",
            "Ingrese el segundo número real: 50\n",
            "El primer número, 100.0 es multiplo del segundo 50.0\n"
          ]
        }
      ]
    },
    {
      "cell_type": "markdown",
      "source": [
        "# ***EJERCICIO #5***\n",
        "\n",
        "**Dado un número real x, construya un programa que permita determinar si el número es positivo, negativo o cero. Para cada caso de debe imprimir el texto que se especifica a continuación:**\n",
        "\n",
        "**Positivo:** \"El número x es positivo\"\n",
        "\n",
        "**Negativo:** \"El número x es negativo\"\n",
        "\n",
        "**Cero (0):** \"El número x es el neutro para la suma\""
      ],
      "metadata": {
        "id": "v6jgk_Wq5Rhp"
      }
    },
    {
      "cell_type": "code",
      "source": [
        "x = float(input(\"Digite un número: \"))\n",
        "if x<0:\n",
        "  print(f\"El número {x} es negativo\")\n",
        "if x==0:\n",
        "  print(f\"El número {x} es neutro para la suma\")\n",
        "if x>0:\n",
        "  print(f\"El número {x} es positivo\")"
      ],
      "metadata": {
        "colab": {
          "base_uri": "https://localhost:8080/"
        },
        "id": "jzTK7acQ5Ui2",
        "outputId": "7a177cf9-bdd3-44e8-822e-1c21b14cbb35"
      },
      "execution_count": null,
      "outputs": [
        {
          "output_type": "stream",
          "name": "stdout",
          "text": [
            "Digite un número: 3\n",
            "El número 3.0 es positivo\n"
          ]
        }
      ]
    },
    {
      "cell_type": "markdown",
      "source": [
        "# ***EJERCICIO #6***\n",
        "\n",
        "**Dado el centro y el radio de un círculo, determinar si un punto de R2 pertenece o no al interior del círculo.**"
      ],
      "metadata": {
        "id": "FtDJPQp27Tet"
      }
    },
    {
      "cell_type": "code",
      "source": [
        "def punto_en_círculo(a, b, r, x, y):\n",
        "    # Calcula la distancia cuadrada entre el punto y el centro del círculo.\n",
        "    distancia_cuadrada = (x - a)**2 + (y - b)**2\n",
        "    radio_cuadrado = r**2\n",
        "\n",
        "    if distancia_cuadrada < radio_cuadrado:\n",
        "        return \"El punto está dentro del círculo.\"\n",
        "    elif distancia_cuadrada == radio_cuadrado:\n",
        "        return \"El punto está sobre la circunferencia.\"\n",
        "    else:\n",
        "        return \"El punto está fuera del círculo.\"\n",
        "\n",
        " # Ejemplo de uso\n",
        " #centro[0], centro[1], radio, punto[0], punto[1]\n",
        " #centro = (0, 0)  # Centro en el origen\n",
        " #radio = 5        # Radio del círculo\n",
        " #punto = (3, 4)   # Punto a verificar\n",
        "\n",
        "resultado = punto_en_círculo(0,0,5,4,5)\n",
        "print(resultado)"
      ],
      "metadata": {
        "id": "tpU6gl497UXD",
        "colab": {
          "base_uri": "https://localhost:8080/"
        },
        "outputId": "34222684-3f00-4e06-d119-4e333949b3d3"
      },
      "execution_count": 2,
      "outputs": [
        {
          "output_type": "stream",
          "name": "stdout",
          "text": [
            "El punto está fuera del círculo.\n"
          ]
        }
      ]
    },
    {
      "cell_type": "markdown",
      "source": [
        "# ***EJERCICIO #7***\n",
        "\n",
        "**Dadas tres longitudes positivas, determinar si con esas longitudes se puede construir un triángulo.**"
      ],
      "metadata": {
        "id": "gqfO02hU7UqV"
      }
    },
    {
      "cell_type": "code",
      "source": [
        "def triángulos(x,y,z):\n",
        "    if x+y>z and x+z>y and z+y>x:\n",
        "        print (\"Los valores de los lados permiten crear un triángulo\")\n",
        "    else:\n",
        "        print (\"Los valores de los lados no permiten crear un triángulo\")\n",
        "triángulos(8,3,4)"
      ],
      "metadata": {
        "id": "GKBjWdU27VvO",
        "colab": {
          "base_uri": "https://localhost:8080/"
        },
        "outputId": "65e52ed4-e80f-44b0-c13a-34065751b28d"
      },
      "execution_count": 3,
      "outputs": [
        {
          "output_type": "stream",
          "name": "stdout",
          "text": [
            "Los valores de los lados no permiten crear un triángulo\n"
          ]
        }
      ]
    },
    {
      "cell_type": "markdown",
      "source": [
        "# ***EJERCICIO #8***\n",
        "\n",
        "**Escriba un programa que reciba el nombre en minúsculas de un país de America y retorne la ciudad capital, si el país no pertenece al continente debe arrojar \"país no identificado\" (Utilice match-case).**"
      ],
      "metadata": {
        "id": "6lz5YVo77V4q"
      }
    },
    {
      "cell_type": "code",
      "source": [
        "\n",
        "país = input(\"Escriba el nombre de un país de América(en minusculas): \")\n",
        "match (país):\n",
        "  case \"canada\":\n",
        "            print(\"La capital de Canadá es Ottawa\")\n",
        "  case \"estados unidos\":\n",
        "            print(\"La capital de Estados Unidos es Washington, D.C.\")\n",
        "  case \"mexico\":\n",
        "            print(\"La capital de México es Ciudad de México\")\n",
        "  case \"belice\":\n",
        "            print(\"La capital de Belice es Belmopan\")\n",
        "  case \"costa rica\":\n",
        "            print(\"La capital de Costa Rica es San José\")\n",
        "  case \"el salvador\":\n",
        "            print(\"La capital de El Salvador es San Salvador\")\n",
        "  case \"guatemala\":\n",
        "            print(\"La capital de Guatemala es Ciudad de Guatemala\")\n",
        "  case \"honduras\":\n",
        "            print(\"La capital de Honduras es Tegucigalpa\")\n",
        "  case \"nicaragua\":\n",
        "            print(\"La capital de Nicaragua es Managua\")\n",
        "  case \"panama\":\n",
        "            print(\"La capital de Panamá es Ciudad de Panamá\")\n",
        "  case \"antigua y barbuda\":\n",
        "            print(\"La capital de Antigua y Barbuda es Saint John's\")\n",
        "  case \"bahamas\":\n",
        "            print(\"La capital de Bahamas es Nassau\")\n",
        "  case \"barbados\":\n",
        "            print(\"La capital de Barbados es Bridgetown\")\n",
        "  case \"cuba\":\n",
        "            print(\"La capital de Cuba es La Habana\")\n",
        "  case \"dominica\":\n",
        "            print(\"La capital de Dominica es Roseau\")\n",
        "  case \"granada\":\n",
        "            print(\"La capital de Granada es Saint George's\")\n",
        "  case \"haiti\":\n",
        "            print(\"La capital de Haití es Puerto Príncipe\")\n",
        "  case \"jamaica\":\n",
        "            print(\"La capital de Jamaica es Kingston\")\n",
        "  case \"puerto rico\":\n",
        "            print(\"La capital de Puerto Rico es San Juan\")\n",
        "  case \"republica dominicana\":\n",
        "            print(\"La capital de República Dominicana es Santo Domingo\")\n",
        "  case \"san cristobal y nieves\":\n",
        "            print(\"La capital de San Cristóbal y Nieves es Basseterre\")\n",
        "  case \"santa lucia\":\n",
        "            print(\"La capital de Santa Lucía es Castries\")\n",
        "  case \"san vicente y las granadinas\":\n",
        "            print(\"La capital de San Vicente y las Granadinas es Kingstown\")\n",
        "  case \"trinidad y tobago\":\n",
        "            print(\"La capital de Trinidad y Tobago es Puerto España\")\n",
        "  case \"argentina\":\n",
        "            print(\"La capital de Argentina es Buenos Aires\")\n",
        "  case \"bolivia\":\n",
        "            print(\"La capital de Bolivia es Sucre\")\n",
        "  case \"brasil\":\n",
        "            print(\"La capital de Brasil es Brasilia\")\n",
        "  case \"chile\":\n",
        "            print(\"La capital de Chile es Santiago\")\n",
        "  case \"colombia\":\n",
        "            print(\"La capital de Colombia es Bogotá\")\n",
        "  case \"ecuador\":\n",
        "            print(\"La capital de Ecuador es Quito\")\n",
        "  case \"guyana\":\n",
        "            print(\"La capital de Guyana es Georgetown\")\n",
        "  case \"paraguay\":\n",
        "            print(\"La capital de Paraguay es Asunción\")\n",
        "  case \"peru\":\n",
        "            print(\"La capital de Perú es Lima\")\n",
        "  case \"surinam\":\n",
        "            print(\"La capital de Surinam es Paramaribo\")\n",
        "  case \"uruguay\":\n",
        "            print(\"La capital de Uruguay es Montevideo\")\n",
        "  case \"venezuela\":\n",
        "            print(\"La capital de Venezuela es Caracas\")\n",
        "  case _:\n",
        "            print(\"País no identificado\")"
      ],
      "metadata": {
        "colab": {
          "base_uri": "https://localhost:8080/"
        },
        "id": "uYoEgmIQ7Wcc",
        "outputId": "f246ff43-9c45-436c-b107-7abe15b03de5"
      },
      "execution_count": null,
      "outputs": [
        {
          "output_type": "stream",
          "name": "stdout",
          "text": [
            "Escriba el nombre de un país de América(en minusculas): peru\n",
            "La capital de Perú es Lima\n"
          ]
        }
      ]
    }
  ]
}